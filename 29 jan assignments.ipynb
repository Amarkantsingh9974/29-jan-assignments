{
 "cells": [
  {
   "cell_type": "markdown",
   "id": "e8dfa374",
   "metadata": {},
   "source": [
    "ans 1  Guido van Rossum "
   ]
  },
  {
   "cell_type": "markdown",
   "id": "6185cefc",
   "metadata": {},
   "source": [
    "ans 2 Procedural programming\n",
    "    Object-oriented programming (OOP)\n",
    "    Functional programming\n",
    "    Imperative programming\n",
    "    Event-driven programming\n",
    "    Aspect-oriented programming"
   ]
  },
  {
   "cell_type": "markdown",
   "id": "f421405e",
   "metadata": {},
   "source": [
    "ans 3 yes "
   ]
  },
  {
   "cell_type": "markdown",
   "id": "4a05e5a5",
   "metadata": {},
   "source": [
    "ans 4 .py"
   ]
  },
  {
   "cell_type": "markdown",
   "id": "e3eab428",
   "metadata": {},
   "source": [
    "ans 5 interpreted"
   ]
  },
  {
   "cell_type": "markdown",
   "id": "71a78a1a",
   "metadata": {},
   "source": [
    "ans 6  identation is used to define the code"
   ]
  },
  {
   "cell_type": "code",
   "execution_count": 1,
   "id": "a2d5b998",
   "metadata": {},
   "outputs": [
    {
     "name": "stdout",
     "output_type": "stream",
     "text": [
      "Hello, World!\n"
     ]
    }
   ],
   "source": [
    "print(\"Hello, World!\")\n",
    "#sample block of code"
   ]
  },
  {
   "cell_type": "code",
   "execution_count": null,
   "id": "08eae8df",
   "metadata": {},
   "outputs": [],
   "source": [
    "ans 7 \"#\" #this is a single line comment"
   ]
  },
  {
   "cell_type": "markdown",
   "id": "db80077c",
   "metadata": {},
   "source": [
    " ans 8  the below code\n"
   ]
  },
  {
   "cell_type": "code",
   "execution_count": 3,
   "id": "0a04157b",
   "metadata": {},
   "outputs": [
    {
     "name": "stdout",
     "output_type": "stream",
     "text": [
      "Python version\n",
      "3.9.12 (main, Apr  4 2022, 05:22:27) [MSC v.1916 64 bit (AMD64)]\n",
      "Version info.\n",
      "sys.version_info(major=3, minor=9, micro=12, releaselevel='final', serial=0)\n"
     ]
    }
   ],
   "source": [
    "import sys\n",
    "\n",
    "print(\"Python version\")\n",
    "print(sys.version)\n",
    "print(\"Version info.\")\n",
    "print(sys.version_info)\n"
   ]
  },
  {
   "cell_type": "markdown",
   "id": "aed6f18a",
   "metadata": {},
   "source": [
    " ans 9 lambda"
   ]
  },
  {
   "cell_type": "markdown",
   "id": "54d68b85",
   "metadata": {},
   "source": [
    "ans 10 Pip install packages"
   ]
  },
  {
   "cell_type": "markdown",
   "id": "6f9185b8",
   "metadata": {},
   "source": [
    "ans 11 print(),len(),float().\n"
   ]
  },
  {
   "cell_type": "markdown",
   "id": "8ba33d57",
   "metadata": {},
   "source": [
    "ans 12 it should not exceed 79\n"
   ]
  },
  {
   "cell_type": "markdown",
   "id": "531c7ea7",
   "metadata": {},
   "source": [
    "ans 13 it is much simpler than many languages\n"
   ]
  },
  {
   "cell_type": "markdown",
   "id": "5b08830d",
   "metadata": {},
   "source": [
    "ans 14 it is managed by  python runtime environment"
   ]
  },
  {
   "cell_type": "markdown",
   "id": "69417c75",
   "metadata": {},
   "source": [
    "ans 15 Download the Python installer from the official Python website at https://www.python.org/downloads/windows/.\n",
    "\n",
    "Run the installer and select the \"Add Python X.X to PATH\" option during installation. This will automatically add Python to the PATH environment variable, so you can run Python from anywhere on your system.\n",
    "\n",
    "Once the installation is complete, open the Command Prompt and type \"python\" to check if Python has been installed and added to the PATH variable correctly. You should see the Python version number and the Python prompt (>>>) if everything is installed correctly.\n",
    "\n",
    "If you encounter an error message saying that \"python is not recognized as an internal or external command, operable program or batch file.\", then it means that the PATH variable was not set up correctly during installation. To fix this, you can add the Python installation directory manually to the PATH variable. Here's how:\n",
    "\n",
    "Right-click on \"This PC\" and select \"Properties\".\n",
    "Click on \"Advanced system settings\" in the left sidebar.\n",
    "Click on the \"Environment Variables\" button at the bottom of the window.\n",
    "Under \"System Variables\", scroll down and find the \"Path\" variable, then click \"Edit\".\n",
    "Click \"New\" and add the path to the Python installation directory (for example, \"C:\\Python39\").\n",
    "Click \"OK\" to save the changes.\n",
    "Once you've added the Python installation directory to the PATH variable, you should be able to run Python from anywhere on your system by typing \"python\" in the Command Prompt."
   ]
  },
  {
   "cell_type": "code",
   "execution_count": null,
   "id": "1bcafd35",
   "metadata": {},
   "outputs": [],
   "source": []
  }
 ],
 "metadata": {
  "kernelspec": {
   "display_name": "Python 3 (ipykernel)",
   "language": "python",
   "name": "python3"
  },
  "language_info": {
   "codemirror_mode": {
    "name": "ipython",
    "version": 3
   },
   "file_extension": ".py",
   "mimetype": "text/x-python",
   "name": "python",
   "nbconvert_exporter": "python",
   "pygments_lexer": "ipython3",
   "version": "3.9.12"
  }
 },
 "nbformat": 4,
 "nbformat_minor": 5
}
